{
  "nbformat": 4,
  "nbformat_minor": 0,
  "metadata": {
    "colab": {
      "provenance": []
    },
    "kernelspec": {
      "name": "python3",
      "display_name": "Python 3"
    },
    "language_info": {
      "name": "python"
    }
  },
  "cells": [
    {
      "cell_type": "markdown",
      "source": [
        "Enunciado:Una empresa de contabilidad tiene 900 horas de tiempo personal y 100 horas de tiempo de revision disponible cada semana. la empresa cobra 2000 dolares por una auditoria y 300 dolares por una devolucion de impuesto. para efectuar cada auditoria se requieren 100 horas de tiempo personal y 10 horas de tiempo de revision , y para cada devolucion de impuesto se requieren 12.5 horas de tiempo personal y 2.5 horas de tiempo de revision. ¿ con que cantidad de auditorias y devoluciones de impuestos se obtiene un ingreso maximo ?"
      ],
      "metadata": {
        "id": "dBsVa-YV3Rlu"
      }
    },
    {
      "cell_type": "code",
      "source": [
        "import random"
      ],
      "metadata": {
        "id": "3kvg5RFRDaRH"
      },
      "execution_count": null,
      "outputs": []
    },
    {
      "cell_type": "code",
      "source": [
        "# Función objetivo a maximizar: Z = 2000*x1 + 300*x2\n",
        "def funcion_objetivo(x1, x2):\n",
        "    return 2000 * x1 + 300 * x2\n",
        "\n",
        "# Función de restricción 1: 100*x1 + 12.5*x2 <= 900\n",
        "def restriccion1(x1, x2):\n",
        "    return 100 * x1 + 12.5 * x2 <= 900\n",
        "\n",
        "# Función de restricción 2: 10*x1 + 2.5*x2 <= 100\n",
        "def restriccion2(x1, x2):\n",
        "    return 10 * x1 + 2.5 * x2 <= 100\n",
        "\n",
        "# Función de restricción 3: x1 >= 0, x2 >= 0 (Restricciones de no negatividad)\n",
        "def restriccion3(x1, x2):\n",
        "    return x1 >= 0 and x2 >= 0\n",
        "\n",
        "# Función de selección de padres\n",
        "def seleccionar_padres(poblacion, aptitudes):\n",
        "    total_aptitudes = sum(aptitudes)\n",
        "    probabilidad_acumulada = 0\n",
        "    padres = []\n",
        "\n",
        "    for i in range(len(poblacion)):\n",
        "        probabilidad = aptitudes[i] / total_aptitudes\n",
        "        probabilidad_acumulada += probabilidad\n",
        "        if random.random() < probabilidad_acumulada:\n",
        "            padres.append(poblacion[i])\n",
        "\n",
        "    return padres\n",
        "\n",
        "# Función de cruce (un punto)\n",
        "def cruzar(padre1, padre2):\n",
        "    punto_cruza = random.randint(0, 1)\n",
        "    hijo1 = [padre1[0], padre2[1]] if punto_cruza == 0 else [padre2[0], padre1[1]]\n",
        "    hijo2 = [padre2[0], padre1[1]] if punto_cruza == 0 else [padre1[0], padre2[1]]\n",
        "    return hijo1, hijo2\n",
        "\n",
        "# Función de mutación\n",
        "def mutar(individuo, prob_mutacion):\n",
        "    for i in range(len(individuo)):\n",
        "        if random.random() < prob_mutacion:\n",
        "            individuo[i] = random.randint(0, 100) if i == 0 else random.randint(0, 40)\n",
        "    return individuo\n"
      ],
      "metadata": {
        "id": "eP-AG-moF8r_"
      },
      "execution_count": null,
      "outputs": []
    },
    {
      "cell_type": "code",
      "source": [
        "# Parametros\n",
        "num_generaciones = 10\n",
        "tamano_poblacion = 100\n",
        "prob_mutacion = 0.1"
      ],
      "metadata": {
        "id": "QMzI7f-bGJVI"
      },
      "execution_count": null,
      "outputs": []
    },
    {
      "cell_type": "code",
      "source": [
        "mejor_solucion = None\n",
        "mejor_aptitud = float('-inf')\n",
        "poblacion = [(random.randint(0, 100), random.randint(0, 40)) for _ in range(tamano_poblacion)]"
      ],
      "metadata": {
        "id": "mHBFK0RB7-9W"
      },
      "execution_count": null,
      "outputs": []
    },
    {
      "cell_type": "code",
      "source": [
        "for _ in range(num_generaciones):\n",
        "\n",
        "    for i in range(tamano_poblacion):\n",
        "        x1, x2 = poblacion[i]\n",
        "        if not (restriccion1(x1, x2) and restriccion2(x1, x2) and restriccion3(x1, x2)):\n",
        "            continue  # Descartar soluciones inválidas\n",
        "\n",
        "        aptitud = funcion_objetivo(x1, x2)\n",
        "        if aptitud > mejor_aptitud:\n",
        "            mejor_aptitud = aptitud\n",
        "            mejor_solucion = (x1, x2)\n",
        "\n",
        "            # Mostrar valores de x1 y x2 en cada generación\n",
        "    print(f\"Generación {_}: x1 = {x1}, x2 = {x2}\")\n",
        "\n",
        "\n",
        "    # Selección de padres\n",
        "    aptitudes = [funcion_objetivo(x1, x2) for x1, x2 in poblacion]\n",
        "    padres = seleccionar_padres(poblacion, aptitudes)\n",
        "\n",
        "    # Cruce y mutación\n",
        "    nueva_poblacion = []\n",
        "    while len(nueva_poblacion) < tamano_poblacion:\n",
        "        padre1, padre2 = random.sample(padres, k=2)  # Seleccionar dos padres de los padres ya seleccionados\n",
        "        hijo1, hijo2 = cruzar(padre1, padre2)\n",
        "        hijo1 = mutar(hijo1, prob_mutacion)\n",
        "        hijo2 = mutar(hijo2, prob_mutacion)\n",
        "        nueva_poblacion.extend([hijo1, hijo2])\n",
        "\n",
        "    poblacion = nueva_poblacion\n",
        "\n",
        "\n",
        "# Imprimir la mejor solución encontrada\n",
        "x1, x2 = mejor_solucion\n",
        "print(\"--------------------------------------------------------------------\")\n",
        "print(\"Número de auditorías (x1):\", x1)\n",
        "print(\"Número de devoluciones de impuestos (x2):\", x2)\n",
        "print(\"Ingreso máximo:\", mejor_aptitud)"
      ],
      "metadata": {
        "colab": {
          "base_uri": "https://localhost:8080/"
        },
        "id": "DXvDK2pEGYQc",
        "outputId": "ac9e5d21-dd1c-4f05-b261-49b83cbaabfd"
      },
      "execution_count": null,
      "outputs": [
        {
          "output_type": "stream",
          "name": "stdout",
          "text": [
            "Generación 0: x1 = 20, x2 = 19\n",
            "Generación 1: x1 = 32, x2 = 21\n",
            "Generación 2: x1 = 84, x2 = 17\n",
            "Generación 3: x1 = 13, x2 = 21\n",
            "Generación 4: x1 = 50, x2 = 34\n",
            "Generación 5: x1 = 1, x2 = 7\n",
            "Generación 6: x1 = 44, x2 = 23\n",
            "Generación 7: x1 = 76, x2 = 18\n",
            "Generación 8: x1 = 98, x2 = 17\n",
            "Generación 9: x1 = 44, x2 = 3\n",
            "--------------------------------------------------------------------\n",
            "Número de auditorías (x1): 8\n",
            "Número de devoluciones de impuestos (x2): 7\n",
            "Ingreso máximo: 18100\n"
          ]
        }
      ]
    }
  ]
}